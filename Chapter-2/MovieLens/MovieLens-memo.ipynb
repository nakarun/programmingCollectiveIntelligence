{
 "cells": [
  {
   "cell_type": "markdown",
   "metadata": {},
   "source": [
    "# 集合知プログラミング"
   ]
  },
  {
   "cell_type": "markdown",
   "metadata": {},
   "source": [
    "MovieLensのデータセットを使ったアイテムの推薦。なんかうまくいかなかったのでMEMO"
   ]
  },
  {
   "cell_type": "code",
   "execution_count": 1,
   "metadata": {
    "collapsed": true
   },
   "outputs": [],
   "source": [
    "import sys"
   ]
  },
  {
   "cell_type": "code",
   "execution_count": 2,
   "metadata": {
    "collapsed": true
   },
   "outputs": [],
   "source": [
    "sys.path.append(\"/Users/runa/python/user_lib\")"
   ]
  },
  {
   "cell_type": "code",
   "execution_count": 3,
   "metadata": {
    "collapsed": true
   },
   "outputs": [],
   "source": [
    "import recommendations"
   ]
  },
  {
   "cell_type": "markdown",
   "metadata": {},
   "source": [
    "一発目なんかうまくいきません"
   ]
  },
  {
   "cell_type": "code",
   "execution_count": 4,
   "metadata": {
    "collapsed": true
   },
   "outputs": [],
   "source": [
    "def loadMovieLens(path='/Users/runa/Downloads/ml-100k'):\n",
    "    movies={}\n",
    "    for line in open(path+'/u.item'):\n",
    "        (id, title)=line.split('|')[0:2]\n",
    "        movies[id]=title\n",
    "        \n",
    "    prefs={}\n",
    "    for line in open(path+'/u.data'):\n",
    "        (user, movieid, rating, ts)=line.split('\\t')\n",
    "        prefs.setdefault(user,{})\n",
    "        prefs[user][movies[movieid]]=fload(rating)\n",
    "    \n",
    "    return prefs"
   ]
  },
  {
   "cell_type": "code",
   "execution_count": 5,
   "metadata": {
    "collapsed": true
   },
   "outputs": [
    {
     "ename": "UnicodeDecodeError",
     "evalue": "'utf-8' codec can't decode byte 0xe9 in position 2892: invalid continuation byte",
     "output_type": "error",
     "traceback": [
      "\u001b[0;31m---------------------------------------------------------------------------\u001b[0m",
      "\u001b[0;31mUnicodeDecodeError\u001b[0m                        Traceback (most recent call last)",
      "\u001b[0;32m<ipython-input-5-474a034aa1c4>\u001b[0m in \u001b[0;36m<module>\u001b[0;34m()\u001b[0m\n\u001b[0;32m----> 1\u001b[0;31m \u001b[0mpref\u001b[0m \u001b[0;34m=\u001b[0m \u001b[0mloadMovieLens\u001b[0m\u001b[0;34m(\u001b[0m\u001b[0;34m)\u001b[0m\u001b[0;34m\u001b[0m\u001b[0m\n\u001b[0m",
      "\u001b[0;32m<ipython-input-4-e02132bf5a41>\u001b[0m in \u001b[0;36mloadMovieLens\u001b[0;34m(path)\u001b[0m\n\u001b[1;32m      1\u001b[0m \u001b[0;32mdef\u001b[0m \u001b[0mloadMovieLens\u001b[0m\u001b[0;34m(\u001b[0m\u001b[0mpath\u001b[0m\u001b[0;34m=\u001b[0m\u001b[0;34m'/Users/runa/Downloads/ml-100k'\u001b[0m\u001b[0;34m)\u001b[0m\u001b[0;34m:\u001b[0m\u001b[0;34m\u001b[0m\u001b[0m\n\u001b[1;32m      2\u001b[0m     \u001b[0mmovies\u001b[0m\u001b[0;34m=\u001b[0m\u001b[0;34m{\u001b[0m\u001b[0;34m}\u001b[0m\u001b[0;34m\u001b[0m\u001b[0m\n\u001b[0;32m----> 3\u001b[0;31m     \u001b[0;32mfor\u001b[0m \u001b[0mline\u001b[0m \u001b[0;32min\u001b[0m \u001b[0mopen\u001b[0m\u001b[0;34m(\u001b[0m\u001b[0mpath\u001b[0m\u001b[0;34m+\u001b[0m\u001b[0;34m'/u.item'\u001b[0m\u001b[0;34m)\u001b[0m\u001b[0;34m:\u001b[0m\u001b[0;34m\u001b[0m\u001b[0m\n\u001b[0m\u001b[1;32m      4\u001b[0m         \u001b[0;34m(\u001b[0m\u001b[0mid\u001b[0m\u001b[0;34m,\u001b[0m \u001b[0mtitle\u001b[0m\u001b[0;34m)\u001b[0m\u001b[0;34m=\u001b[0m\u001b[0mline\u001b[0m\u001b[0;34m.\u001b[0m\u001b[0msplit\u001b[0m\u001b[0;34m(\u001b[0m\u001b[0;34m'|'\u001b[0m\u001b[0;34m)\u001b[0m\u001b[0;34m[\u001b[0m\u001b[0;36m0\u001b[0m\u001b[0;34m:\u001b[0m\u001b[0;36m2\u001b[0m\u001b[0;34m]\u001b[0m\u001b[0;34m\u001b[0m\u001b[0m\n\u001b[1;32m      5\u001b[0m         \u001b[0mmovies\u001b[0m\u001b[0;34m[\u001b[0m\u001b[0mid\u001b[0m\u001b[0;34m]\u001b[0m\u001b[0;34m=\u001b[0m\u001b[0mtitle\u001b[0m\u001b[0;34m\u001b[0m\u001b[0m\n",
      "\u001b[0;32m/Users/runa/anaconda3/lib/python3.5/codecs.py\u001b[0m in \u001b[0;36mdecode\u001b[0;34m(self, input, final)\u001b[0m\n\u001b[1;32m    319\u001b[0m         \u001b[0;31m# decode input (taking the buffer into account)\u001b[0m\u001b[0;34m\u001b[0m\u001b[0;34m\u001b[0m\u001b[0m\n\u001b[1;32m    320\u001b[0m         \u001b[0mdata\u001b[0m \u001b[0;34m=\u001b[0m \u001b[0mself\u001b[0m\u001b[0;34m.\u001b[0m\u001b[0mbuffer\u001b[0m \u001b[0;34m+\u001b[0m \u001b[0minput\u001b[0m\u001b[0;34m\u001b[0m\u001b[0m\n\u001b[0;32m--> 321\u001b[0;31m         \u001b[0;34m(\u001b[0m\u001b[0mresult\u001b[0m\u001b[0;34m,\u001b[0m \u001b[0mconsumed\u001b[0m\u001b[0;34m)\u001b[0m \u001b[0;34m=\u001b[0m \u001b[0mself\u001b[0m\u001b[0;34m.\u001b[0m\u001b[0m_buffer_decode\u001b[0m\u001b[0;34m(\u001b[0m\u001b[0mdata\u001b[0m\u001b[0;34m,\u001b[0m \u001b[0mself\u001b[0m\u001b[0;34m.\u001b[0m\u001b[0merrors\u001b[0m\u001b[0;34m,\u001b[0m \u001b[0mfinal\u001b[0m\u001b[0;34m)\u001b[0m\u001b[0;34m\u001b[0m\u001b[0m\n\u001b[0m\u001b[1;32m    322\u001b[0m         \u001b[0;31m# keep undecoded input until the next call\u001b[0m\u001b[0;34m\u001b[0m\u001b[0;34m\u001b[0m\u001b[0m\n\u001b[1;32m    323\u001b[0m         \u001b[0mself\u001b[0m\u001b[0;34m.\u001b[0m\u001b[0mbuffer\u001b[0m \u001b[0;34m=\u001b[0m \u001b[0mdata\u001b[0m\u001b[0;34m[\u001b[0m\u001b[0mconsumed\u001b[0m\u001b[0;34m:\u001b[0m\u001b[0;34m]\u001b[0m\u001b[0;34m\u001b[0m\u001b[0m\n",
      "\u001b[0;31mUnicodeDecodeError\u001b[0m: 'utf-8' codec can't decode byte 0xe9 in position 2892: invalid continuation byte"
     ]
    }
   ],
   "source": [
    "pref = loadMovieLens()"
   ]
  },
  {
   "cell_type": "markdown",
   "metadata": {},
   "source": [
    "とりあえずu.itemの中にutf-8じゃない文字あるんだろうなって思って、下から半分データを消したやつ用意したら、通った。"
   ]
  },
  {
   "cell_type": "code",
   "execution_count": 6,
   "metadata": {
    "collapsed": true
   },
   "outputs": [],
   "source": [
    "path='/Users/runa/Downloads/ml-100k'\n",
    "movies={}\n",
    "for line in open(path+'/u_test.item'):\n",
    "    (id, title)=line.split('|')[0:2]\n",
    "    movies[id]=title"
   ]
  },
  {
   "cell_type": "markdown",
   "metadata": {},
   "source": [
    "じゃ、u.itemの、上から半分データを消したやつ用意したら、通らなかった。"
   ]
  },
  {
   "cell_type": "code",
   "execution_count": 8,
   "metadata": {
    "collapsed": true
   },
   "outputs": [
    {
     "ename": "UnicodeDecodeError",
     "evalue": "'utf-8' codec can't decode byte 0xe9 in position 1269: invalid continuation byte",
     "output_type": "error",
     "traceback": [
      "\u001b[0;31m---------------------------------------------------------------------------\u001b[0m",
      "\u001b[0;31mUnicodeDecodeError\u001b[0m                        Traceback (most recent call last)",
      "\u001b[0;32m<ipython-input-8-74053db7562c>\u001b[0m in \u001b[0;36m<module>\u001b[0;34m()\u001b[0m\n\u001b[1;32m      1\u001b[0m \u001b[0mpath\u001b[0m\u001b[0;34m=\u001b[0m\u001b[0;34m'/Users/runa/Downloads/ml-100k'\u001b[0m\u001b[0;34m\u001b[0m\u001b[0m\n\u001b[1;32m      2\u001b[0m \u001b[0mmovies\u001b[0m\u001b[0;34m=\u001b[0m\u001b[0;34m{\u001b[0m\u001b[0;34m}\u001b[0m\u001b[0;34m\u001b[0m\u001b[0m\n\u001b[0;32m----> 3\u001b[0;31m \u001b[0;32mfor\u001b[0m \u001b[0mline\u001b[0m \u001b[0;32min\u001b[0m \u001b[0mopen\u001b[0m\u001b[0;34m(\u001b[0m\u001b[0mpath\u001b[0m\u001b[0;34m+\u001b[0m\u001b[0;34m'/u_test2.item'\u001b[0m\u001b[0;34m)\u001b[0m\u001b[0;34m:\u001b[0m\u001b[0;34m\u001b[0m\u001b[0m\n\u001b[0m\u001b[1;32m      4\u001b[0m     \u001b[0;34m(\u001b[0m\u001b[0mid\u001b[0m\u001b[0;34m,\u001b[0m \u001b[0mtitle\u001b[0m\u001b[0;34m)\u001b[0m\u001b[0;34m=\u001b[0m\u001b[0mline\u001b[0m\u001b[0;34m.\u001b[0m\u001b[0msplit\u001b[0m\u001b[0;34m(\u001b[0m\u001b[0;34m'|'\u001b[0m\u001b[0;34m)\u001b[0m\u001b[0;34m[\u001b[0m\u001b[0;36m0\u001b[0m\u001b[0;34m:\u001b[0m\u001b[0;36m2\u001b[0m\u001b[0;34m]\u001b[0m\u001b[0;34m\u001b[0m\u001b[0m\n\u001b[1;32m      5\u001b[0m     \u001b[0mmovies\u001b[0m\u001b[0;34m[\u001b[0m\u001b[0mid\u001b[0m\u001b[0;34m]\u001b[0m\u001b[0;34m=\u001b[0m\u001b[0mtitle\u001b[0m\u001b[0;34m\u001b[0m\u001b[0m\n",
      "\u001b[0;32m/Users/runa/anaconda3/lib/python3.5/codecs.py\u001b[0m in \u001b[0;36mdecode\u001b[0;34m(self, input, final)\u001b[0m\n\u001b[1;32m    319\u001b[0m         \u001b[0;31m# decode input (taking the buffer into account)\u001b[0m\u001b[0;34m\u001b[0m\u001b[0;34m\u001b[0m\u001b[0m\n\u001b[1;32m    320\u001b[0m         \u001b[0mdata\u001b[0m \u001b[0;34m=\u001b[0m \u001b[0mself\u001b[0m\u001b[0;34m.\u001b[0m\u001b[0mbuffer\u001b[0m \u001b[0;34m+\u001b[0m \u001b[0minput\u001b[0m\u001b[0;34m\u001b[0m\u001b[0m\n\u001b[0;32m--> 321\u001b[0;31m         \u001b[0;34m(\u001b[0m\u001b[0mresult\u001b[0m\u001b[0;34m,\u001b[0m \u001b[0mconsumed\u001b[0m\u001b[0;34m)\u001b[0m \u001b[0;34m=\u001b[0m \u001b[0mself\u001b[0m\u001b[0;34m.\u001b[0m\u001b[0m_buffer_decode\u001b[0m\u001b[0;34m(\u001b[0m\u001b[0mdata\u001b[0m\u001b[0;34m,\u001b[0m \u001b[0mself\u001b[0m\u001b[0;34m.\u001b[0m\u001b[0merrors\u001b[0m\u001b[0;34m,\u001b[0m \u001b[0mfinal\u001b[0m\u001b[0;34m)\u001b[0m\u001b[0;34m\u001b[0m\u001b[0m\n\u001b[0m\u001b[1;32m    322\u001b[0m         \u001b[0;31m# keep undecoded input until the next call\u001b[0m\u001b[0;34m\u001b[0m\u001b[0;34m\u001b[0m\u001b[0m\n\u001b[1;32m    323\u001b[0m         \u001b[0mself\u001b[0m\u001b[0;34m.\u001b[0m\u001b[0mbuffer\u001b[0m \u001b[0;34m=\u001b[0m \u001b[0mdata\u001b[0m\u001b[0;34m[\u001b[0m\u001b[0mconsumed\u001b[0m\u001b[0;34m:\u001b[0m\u001b[0;34m]\u001b[0m\u001b[0;34m\u001b[0m\u001b[0m\n",
      "\u001b[0;31mUnicodeDecodeError\u001b[0m: 'utf-8' codec can't decode byte 0xe9 in position 1269: invalid continuation byte"
     ]
    }
   ],
   "source": [
    "path='/Users/runa/Downloads/ml-100k'\n",
    "movies={}\n",
    "for line in open(path+'/u_test2.item'):\n",
    "    (id, title)=line.split('|')[0:2]\n",
    "    movies[id]=title"
   ]
  },
  {
   "cell_type": "markdown",
   "metadata": {},
   "source": [
    "じゃ、上から半分のやつでいっかってなって、それで進める。"
   ]
  },
  {
   "cell_type": "code",
   "execution_count": 9,
   "metadata": {
    "collapsed": true
   },
   "outputs": [],
   "source": [
    "def loadMovieLens(path='/Users/runa/Downloads/ml-100k'):\n",
    "    movies = {}\n",
    "    for line in open(path+'/u_test.item'):\n",
    "        (id, title)=line.split('|')[0:2]\n",
    "        movies[id]=title\n",
    "    \n",
    "    prefs={}\n",
    "    for line in open(path+'/u.data'):\n",
    "        (user, movieid, rating, ts)=line.split('\\t')\n",
    "        prefs.setdefault(user,{})\n",
    "        prefs[user][movies[movieid]]=float(rating)\n",
    "    \n",
    "    return prefs"
   ]
  },
  {
   "cell_type": "code",
   "execution_count": 10,
   "metadata": {
    "collapsed": false
   },
   "outputs": [
    {
     "ename": "KeyError",
     "evalue": "'302'",
     "output_type": "error",
     "traceback": [
      "\u001b[0;31m---------------------------------------------------------------------------\u001b[0m",
      "\u001b[0;31mKeyError\u001b[0m                                  Traceback (most recent call last)",
      "\u001b[0;32m<ipython-input-10-474a034aa1c4>\u001b[0m in \u001b[0;36m<module>\u001b[0;34m()\u001b[0m\n\u001b[0;32m----> 1\u001b[0;31m \u001b[0mpref\u001b[0m \u001b[0;34m=\u001b[0m \u001b[0mloadMovieLens\u001b[0m\u001b[0;34m(\u001b[0m\u001b[0;34m)\u001b[0m\u001b[0;34m\u001b[0m\u001b[0m\n\u001b[0m",
      "\u001b[0;32m<ipython-input-9-66823d066a21>\u001b[0m in \u001b[0;36mloadMovieLens\u001b[0;34m(path)\u001b[0m\n\u001b[1;32m      9\u001b[0m         \u001b[0;34m(\u001b[0m\u001b[0muser\u001b[0m\u001b[0;34m,\u001b[0m \u001b[0mmovieid\u001b[0m\u001b[0;34m,\u001b[0m \u001b[0mrating\u001b[0m\u001b[0;34m,\u001b[0m \u001b[0mts\u001b[0m\u001b[0;34m)\u001b[0m\u001b[0;34m=\u001b[0m\u001b[0mline\u001b[0m\u001b[0;34m.\u001b[0m\u001b[0msplit\u001b[0m\u001b[0;34m(\u001b[0m\u001b[0;34m'\\t'\u001b[0m\u001b[0;34m)\u001b[0m\u001b[0;34m\u001b[0m\u001b[0m\n\u001b[1;32m     10\u001b[0m         \u001b[0mprefs\u001b[0m\u001b[0;34m.\u001b[0m\u001b[0msetdefault\u001b[0m\u001b[0;34m(\u001b[0m\u001b[0muser\u001b[0m\u001b[0;34m,\u001b[0m\u001b[0;34m{\u001b[0m\u001b[0;34m}\u001b[0m\u001b[0;34m)\u001b[0m\u001b[0;34m\u001b[0m\u001b[0m\n\u001b[0;32m---> 11\u001b[0;31m         \u001b[0mprefs\u001b[0m\u001b[0;34m[\u001b[0m\u001b[0muser\u001b[0m\u001b[0;34m]\u001b[0m\u001b[0;34m[\u001b[0m\u001b[0mmovies\u001b[0m\u001b[0;34m[\u001b[0m\u001b[0mmovieid\u001b[0m\u001b[0;34m]\u001b[0m\u001b[0;34m]\u001b[0m\u001b[0;34m=\u001b[0m\u001b[0mfloat\u001b[0m\u001b[0;34m(\u001b[0m\u001b[0mrating\u001b[0m\u001b[0;34m)\u001b[0m\u001b[0;34m\u001b[0m\u001b[0m\n\u001b[0m\u001b[1;32m     12\u001b[0m \u001b[0;34m\u001b[0m\u001b[0m\n\u001b[1;32m     13\u001b[0m     \u001b[0;32mreturn\u001b[0m \u001b[0mprefs\u001b[0m\u001b[0;34m\u001b[0m\u001b[0m\n",
      "\u001b[0;31mKeyError\u001b[0m: '302'"
     ]
    }
   ],
   "source": [
    "pref = loadMovieLens()"
   ]
  },
  {
   "cell_type": "markdown",
   "metadata": {},
   "source": [
    "どうやら今度は下のfor文に問題が。"
   ]
  },
  {
   "cell_type": "markdown",
   "metadata": {},
   "source": [
    "原因よくわからないけど、さっき消した下から半分の映画のデータはごっそりないから、一応ないやつは代入しないようにしよう。"
   ]
  },
  {
   "cell_type": "markdown",
   "metadata": {},
   "source": [
    "ってことで, if movieid in movies.keys(): を追加"
   ]
  },
  {
   "cell_type": "code",
   "execution_count": 12,
   "metadata": {
    "collapsed": false
   },
   "outputs": [],
   "source": [
    "def loadMovieLens(path='/Users/runa/Downloads/ml-100k'):\n",
    "    movies = {}\n",
    "    for line in open(path+'/u_test.item'):\n",
    "        (id, title)=line.split('|')[0:2]\n",
    "        movies[id]=title\n",
    "    \n",
    "    prefs={}\n",
    "    for line in open(path+'/u.data'):\n",
    "        (user, movieid, rating, ts)=line.split('\\t')\n",
    "        prefs.setdefault(user,{})\n",
    "        if movieid in movies.keys():####################### HERE #########################\n",
    "            prefs[user][movies[movieid]]=float(rating)\n",
    "    \n",
    "    return prefs"
   ]
  },
  {
   "cell_type": "markdown",
   "metadata": {},
   "source": [
    "そしたらうまくいきました。続きはMovieLensの方で。"
   ]
  },
  {
   "cell_type": "code",
   "execution_count": null,
   "metadata": {
    "collapsed": true
   },
   "outputs": [],
   "source": []
  },
  {
   "cell_type": "markdown",
   "metadata": {},
   "source": [
    "ちなみに、moviesはdict型。中身はこう見る。"
   ]
  },
  {
   "cell_type": "code",
   "execution_count": 13,
   "metadata": {
    "collapsed": true
   },
   "outputs": [],
   "source": [
    "path='/Users/runa/Downloads/ml-100k'\n",
    "movies = {}\n",
    "for line in open(path+'/u_test.item'):\n",
    "    (id, title)=line.split('|')[0:2]\n",
    "    movies[id]=title"
   ]
  },
  {
   "cell_type": "code",
   "execution_count": 18,
   "metadata": {
    "collapsed": false
   },
   "outputs": [
    {
     "data": {
      "text/plain": [
       "dict"
      ]
     },
     "execution_count": 18,
     "metadata": {},
     "output_type": "execute_result"
    }
   ],
   "source": [
    "type(movies)"
   ]
  },
  {
   "cell_type": "code",
   "execution_count": 15,
   "metadata": {
    "collapsed": true
   },
   "outputs": [
    {
     "data": {
      "text/plain": [
       "dict_items([('91', 'Nightmare Before Christmas, The (1993)'), ('217', \"Bram Stoker's Dracula (1992)\"), ('189', 'Grand Day Out, A (1992)'), ('9', 'Dead Man Walking (1995)'), ('224', 'Ridicule (1996)'), ('12', 'Usual Suspects, The (1995)'), ('134', 'Citizen Kane (1941)'), ('229', 'Star Trek III: The Search for Spock (1984)'), ('16', 'French Twist (Gazon maudit) (1995)'), ('73', 'Maverick (1994)'), ('50', 'Star Wars (1977)'), ('214', 'Pink Floyd - The Wall (1982)'), ('64', 'Shawshank Redemption, The (1994)'), ('121', 'Independence Day (ID4) (1996)'), ('243', 'Jungle2Jungle (1997)'), ('17', 'From Dusk Till Dawn (1996)'), ('239', 'Sneakers (1992)'), ('84', \"Robert A. Heinlein's The Puppet Masters (1994)\"), ('249', 'Austin Powers: International Man of Mystery (1997)'), ('270', 'Gattaca (1997)'), ('159', 'Basic Instinct (1992)'), ('95', 'Aladdin (1992)'), ('205', 'Patton (1970)'), ('118', 'Twister (1996)'), ('208', 'Young Frankenstein (1974)'), ('164', 'Abyss, The (1989)'), ('33', 'Desperado (1995)'), ('1', 'Toy Story (1995)'), ('144', 'Die Hard (1988)'), ('171', 'Delicatessen (1991)'), ('266', 'Kull the Conqueror (1997)'), ('197', 'Graduate, The (1967)'), ('227', 'Star Trek VI: The Undiscovered Country (1991)'), ('176', 'Aliens (1986)'), ('45', 'Eat Drink Man Woman (1994)'), ('145', 'Lawnmower Man, The (1992)'), ('94', 'Home Alone (1990)'), ('153', 'Fish Called Wanda, A (1988)'), ('235', 'Mars Attacks! (1996)'), ('137', 'Big Night (1996)'), ('142', 'Bedknobs and Broomsticks (1971)'), ('273', 'Heat (1995)'), ('113', 'Horseman on the Roof, The (Hussard sur le toit, Le) (1995)'), ('193', 'Right Stuff, The (1983)'), ('52', 'Madness of King George, The (1994)'), ('222', 'Star Trek: First Contact (1996)'), ('44', 'Dolores Claiborne (1994)'), ('92', 'True Romance (1993)'), ('58', 'Quiz Show (1994)'), ('210', 'Indiana Jones and the Last Crusade (1989)'), ('80', 'Hot Shots! Part Deux (1993)'), ('158', \"Weekend at Bernie's (1989)\"), ('259', 'George of the Jungle (1997)'), ('238', 'Raising Arizona (1987)'), ('268', 'Chasing Amy (1997)'), ('71', 'Lion King, The (1994)'), ('213', 'Room with a View, A (1986)'), ('148', 'Ghost and the Darkness, The (1996)'), ('141', '20,000 Leagues Under the Sea (1954)'), ('223', 'Sling Blade (1996)'), ('178', '12 Angry Men (1957)'), ('160', 'Glengarry Glen Ross (1992)'), ('184', 'Army of Darkness (1993)'), ('5', 'Copycat (1995)'), ('278', 'Bed of Roses (1996)'), ('77', 'Firm, The (1993)'), ('87', 'Searching for Bobby Fischer (1993)'), ('247', 'Turbo: A Power Rangers Movie (1997)'), ('82', 'Jurassic Park (1993)'), ('219', 'Nightmare on Elm Street, A (1984)'), ('136', 'Mr. Smith Goes to Washington (1939)'), ('46', 'Exotica (1994)'), ('43', 'Disclosure (1994)'), ('19', \"Antonia's Line (1995)\"), ('230', 'Star Trek IV: The Voyage Home (1986)'), ('192', 'Raging Bull (1980)'), ('106', 'Diabolique (1996)'), ('99', 'Snow White and the Seven Dwarfs (1937)'), ('32', 'Crumb (1994)'), ('81', 'Hudsucker Proxy, The (1994)'), ('155', 'Dirty Dancing (1987)'), ('251', 'Shall We Dance? (1996)'), ('128', 'Supercop (1992)'), ('194', 'Sting, The (1973)'), ('201', 'Evil Dead II (1987)'), ('250', 'Fifth Element, The (1997)'), ('181', 'Return of the Jedi (1983)'), ('138', 'D3: The Mighty Ducks (1996)'), ('151', 'Willy Wonka and the Chocolate Factory (1971)'), ('202', 'Groundhog Day (1993)'), ('78', 'Free Willy (1993)'), ('186', 'Blues Brothers, The (1980)'), ('102', 'Aristocats, The (1970)'), ('74', 'Faster Pussycat! Kill! Kill! (1965)'), ('175', 'Brazil (1985)'), ('122', 'Cable Guy, The (1996)'), ('240', 'Beavis and Butt-head Do America (1996)'), ('228', 'Star Trek: The Wrath of Khan (1982)'), ('53', 'Natural Born Killers (1994)'), ('22', 'Braveheart (1995)'), ('114', 'Wallace & Gromit: The Best of Aardman Animation (1996)'), ('127', 'Godfather, The (1972)'), ('14', 'Postino, Il (1994)'), ('116', 'Cold Comfort Farm (1995)'), ('2', 'GoldenEye (1995)'), ('211', 'M*A*S*H (1970)'), ('72', 'Mask, The (1994)'), ('272', 'Good Will Hunting (1997)'), ('258', 'Contact (1997)'), ('225', '101 Dalmatians (1996)'), ('13', 'Mighty Aphrodite (1995)'), ('140', 'Homeward Bound: The Incredible Journey (1993)'), ('252', 'Lost World: Jurassic Park, The (1997)'), ('139', 'Love Bug, The (1969)'), ('111', 'Truth About Cats & Dogs, The (1996)'), ('271', 'Starship Troopers (1997)'), ('108', 'Kids in the Hall: Brain Candy (1996)'), ('104', 'Theodore Rex (1995)'), ('242', 'Kolya (1996)'), ('244', \"Smilla's Sense of Snow (1997)\"), ('262', 'In the Company of Men (1997)'), ('241', 'Last of the Mohicans, The (1992)'), ('167', 'Private Benjamin (1980)'), ('277', 'Restoration (1995)'), ('30', 'Belle de jour (1967)'), ('143', 'Sound of Music, The (1965)'), ('40', 'To Wong Foo, Thanks for Everything! Julie Newmar (1995)'), ('39', 'Strange Days (1995)'), ('236', 'Citizen Ruth (1996)'), ('182', 'GoodFellas (1990)'), ('198', 'Nikita (La Femme Nikita) (1990)'), ('86', 'Remains of the Day, The (1993)'), ('88', 'Sleepless in Seattle (1993)'), ('257', 'Men in Black (1997)'), ('37', 'Nadja (1994)'), ('21', 'Muppet Treasure Island (1996)'), ('267', 'unknown'), ('70', 'Four Weddings and a Funeral (1994)'), ('260', 'Event Horizon (1997)'), ('27', 'Bad Boys (1995)'), ('269', 'Full Monty, The (1997)'), ('232', 'Young Guns (1988)'), ('237', 'Jerry Maguire (1996)'), ('168', 'Monty Python and the Holy Grail (1974)'), ('203', 'Unforgiven (1992)'), ('253', 'Pillow Book, The (1995)'), ('185', 'Psycho (1960)'), ('275', 'Sense and Sensibility (1995)'), ('109', 'Mystery Science Theater 3000: The Movie (1996)'), ('147', 'Long Kiss Goodnight, The (1996)'), ('65', \"What's Eating Gilbert Grape (1993)\"), ('98', 'Silence of the Lambs, The (1991)'), ('31', 'Crimson Tide (1995)'), ('209', 'This Is Spinal Tap (1984)'), ('220', 'Mirror Has Two Faces, The (1996)'), ('55', 'Professional, The (1994)'), ('179', 'Clockwork Orange, A (1971)'), ('261', 'Air Bud (1997)'), ('47', 'Ed Wood (1994)'), ('246', 'Chasing Amy (1997)'), ('34', 'Doom Generation, The (1995)'), ('174', 'Raiders of the Lost Ark (1981)'), ('8', 'Babe (1995)'), ('28', 'Apollo 13 (1995)'), ('200', 'Shining, The (1980)'), ('83', 'Much Ado About Nothing (1993)'), ('125', 'Phenomenon (1996)'), ('177', 'Good, The Bad and The Ugly, The (1966)'), ('231', 'Batman Returns (1992)'), ('212', 'Unbearable Lightness of Being, The (1988)'), ('7', 'Twelve Monkeys (1995)'), ('63', 'Santa Clause, The (1994)'), ('255', \"My Best Friend's Wedding (1997)\"), ('152', 'Sleeper (1973)'), ('41', 'Billy Madison (1995)'), ('97', 'Dances with Wolves (1990)'), ('56', 'Pulp Fiction (1994)'), ('23', 'Taxi Driver (1976)'), ('36', 'Mad Love (1995)'), ('67', 'Ace Ventura: Pet Detective (1994)'), ('276', 'Leaving Las Vegas (1995)'), ('162', 'On Golden Pond (1981)'), ('180', 'Apocalypse Now (1979)'), ('196', 'Dead Poets Society (1989)'), ('79', 'Fugitive, The (1993)'), ('150', 'Swingers (1996)'), ('195', 'Terminator, The (1984)'), ('35', 'Free Willy 2: The Adventure Home (1995)'), ('133', 'Gone with the Wind (1939)'), ('166', 'Manon of the Spring (Manon des sources) (1986)'), ('279', 'Once Upon a Time... When We Were Colored (1995)'), ('29', 'Batman Forever (1995)'), ('207', 'Cyrano de Bergerac (1990)'), ('89', 'Blade Runner (1982)'), ('66', 'While You Were Sleeping (1995)'), ('115', 'Haunted World of Edward D. Wood Jr., The (1995)'), ('4', 'Get Shorty (1995)'), ('15', \"Mr. Holland's Opus (1995)\"), ('172', 'Empire Strikes Back, The (1980)'), ('76', \"Carlito's Way (1993)\"), ('131', \"Breakfast at Tiffany's (1961)\"), ('3', 'Four Rooms (1995)'), ('124', 'Lone Star (1996)'), ('60', 'Three Colors: Blue (1993)'), ('38', 'Net, The (1995)'), ('264', 'Mimic (1997)'), ('96', 'Terminator 2: Judgment Day (1991)'), ('190', 'Henry V (1989)'), ('54', 'Outbreak (1995)'), ('117', 'Rock, The (1996)'), ('49', 'I.Q. (1994)'), ('206', 'Akira (1988)'), ('90', 'So I Married an Axe Murderer (1993)'), ('24', 'Rumble in the Bronx (1995)'), ('129', 'Bound (1996)'), ('132', 'Wizard of Oz, The (1939)'), ('146', 'Unhook the Stars (1996)'), ('110', 'Operation Dumbo Drop (1995)'), ('204', 'Back to the Future (1985)'), ('107', 'Moll Flanders (1996)'), ('248', 'Grosse Pointe Blank (1997)'), ('10', 'Richard III (1995)'), ('59', 'Three Colors: Red (1994)'), ('256', 'When the Cats Away (Chacun cherche son chat) (1996)'), ('215', 'Field of Dreams (1989)'), ('18', 'White Balloon, The (1995)'), ('119', 'Maya Lin: A Strong Clear Vision (1994)'), ('191', 'Amadeus (1984)'), ('112', 'Flipper (1996)'), ('169', 'Wrong Trousers, The (1993)'), ('130', 'Kansas City (1996)'), ('103', 'All Dogs Go to Heaven 2 (1996)'), ('69', 'Forrest Gump (1994)'), ('42', 'Clerks (1994)'), ('161', 'Top Gun (1986)'), ('105', 'Sgt. Bilko (1996)'), ('274', 'Sabrina (1995)'), ('173', 'Princess Bride, The (1987)'), ('93', 'Welcome to the Dollhouse (1995)'), ('68', 'Crow, The (1994)'), ('25', 'Birdcage, The (1996)'), ('156', 'Reservoir Dogs (1992)'), ('48', 'Hoop Dreams (1994)'), ('75', 'Brother Minister: The Assassination of Malcolm X (1994)'), ('126', 'Spitfire Grill, The (1996)'), ('165', 'Jean de Florette (1986)'), ('221', 'Breaking the Waves (1996)'), ('234', 'Jaws (1975)'), ('188', 'Full Metal Jacket (1987)'), ('6', 'Shanghai Triad (Yao a yao yao dao waipo qiao) (1995)'), ('216', 'When Harry Met Sally... (1989)'), ('123', 'Frighteners, The (1996)'), ('120', 'Striptease (1996)'), ('254', 'Batman & Robin (1997)'), ('199', 'Bridge on the River Kwai, The (1957)'), ('233', 'Under Siege (1992)'), ('170', 'Cinema Paradiso (1988)'), ('187', 'Godfather: Part II, The (1974)'), ('61', 'Three Colors: White (1994)'), ('154', \"Monty Python's Life of Brian (1979)\"), ('51', 'Legends of the Fall (1994)'), ('263', 'Steel (1997)'), ('11', 'Seven (Se7en) (1995)'), ('26', 'Brothers McMullen, The (1995)'), ('100', 'Fargo (1996)'), ('183', 'Alien (1979)'), ('20', 'Angels and Insects (1995)'), ('245', \"Devil's Own, The (1997)\"), ('149', 'Jude (1996)'), ('57', 'Priest (1994)'), ('157', 'Platoon (1986)'), ('101', 'Heavy Metal (1981)'), ('265', 'Hunt for Red October, The (1990)'), ('62', 'Stargate (1994)'), ('85', 'Ref, The (1994)'), ('218', 'Cape Fear (1991)'), ('226', 'Die Hard 2 (1990)'), ('135', '2001: A Space Odyssey (1968)'), ('163', 'Return of the Pink Panther, The (1974)')])"
      ]
     },
     "execution_count": 15,
     "metadata": {},
     "output_type": "execute_result"
    }
   ],
   "source": [
    "movies.items()"
   ]
  },
  {
   "cell_type": "code",
   "execution_count": 16,
   "metadata": {
    "collapsed": true
   },
   "outputs": [
    {
     "data": {
      "text/plain": [
       "dict_keys(['91', '217', '189', '9', '224', '12', '134', '229', '16', '73', '50', '214', '64', '121', '243', '17', '239', '84', '249', '270', '159', '95', '205', '118', '208', '164', '33', '1', '144', '171', '266', '197', '227', '176', '45', '145', '94', '153', '235', '137', '142', '273', '113', '193', '52', '222', '44', '92', '58', '210', '80', '158', '259', '238', '268', '71', '213', '148', '141', '223', '178', '160', '184', '5', '278', '77', '87', '247', '82', '219', '136', '46', '43', '19', '230', '192', '106', '99', '32', '81', '155', '251', '128', '194', '201', '250', '181', '138', '151', '202', '78', '186', '102', '74', '175', '122', '240', '228', '53', '22', '114', '127', '14', '116', '2', '211', '72', '272', '258', '225', '13', '140', '252', '139', '111', '271', '108', '104', '242', '244', '262', '241', '167', '277', '30', '143', '40', '39', '236', '182', '198', '86', '88', '257', '37', '21', '267', '70', '260', '27', '269', '232', '237', '168', '203', '253', '185', '275', '109', '147', '65', '98', '31', '209', '220', '55', '179', '261', '47', '246', '34', '174', '8', '28', '200', '83', '125', '177', '231', '212', '7', '63', '255', '152', '41', '97', '56', '23', '36', '67', '276', '162', '180', '196', '79', '150', '195', '35', '133', '166', '279', '29', '207', '89', '66', '115', '4', '15', '172', '76', '131', '3', '124', '60', '38', '264', '96', '190', '54', '117', '49', '206', '90', '24', '129', '132', '146', '110', '204', '107', '248', '10', '59', '256', '215', '18', '119', '191', '112', '169', '130', '103', '69', '42', '161', '105', '274', '173', '93', '68', '25', '156', '48', '75', '126', '165', '221', '234', '188', '6', '216', '123', '120', '254', '199', '233', '170', '187', '61', '154', '51', '263', '11', '26', '100', '183', '20', '245', '149', '57', '157', '101', '265', '62', '85', '218', '226', '135', '163'])"
      ]
     },
     "execution_count": 16,
     "metadata": {},
     "output_type": "execute_result"
    }
   ],
   "source": [
    "movies.keys()"
   ]
  },
  {
   "cell_type": "code",
   "execution_count": 17,
   "metadata": {
    "collapsed": true
   },
   "outputs": [
    {
     "data": {
      "text/plain": [
       "dict_values(['Nightmare Before Christmas, The (1993)', \"Bram Stoker's Dracula (1992)\", 'Grand Day Out, A (1992)', 'Dead Man Walking (1995)', 'Ridicule (1996)', 'Usual Suspects, The (1995)', 'Citizen Kane (1941)', 'Star Trek III: The Search for Spock (1984)', 'French Twist (Gazon maudit) (1995)', 'Maverick (1994)', 'Star Wars (1977)', 'Pink Floyd - The Wall (1982)', 'Shawshank Redemption, The (1994)', 'Independence Day (ID4) (1996)', 'Jungle2Jungle (1997)', 'From Dusk Till Dawn (1996)', 'Sneakers (1992)', \"Robert A. Heinlein's The Puppet Masters (1994)\", 'Austin Powers: International Man of Mystery (1997)', 'Gattaca (1997)', 'Basic Instinct (1992)', 'Aladdin (1992)', 'Patton (1970)', 'Twister (1996)', 'Young Frankenstein (1974)', 'Abyss, The (1989)', 'Desperado (1995)', 'Toy Story (1995)', 'Die Hard (1988)', 'Delicatessen (1991)', 'Kull the Conqueror (1997)', 'Graduate, The (1967)', 'Star Trek VI: The Undiscovered Country (1991)', 'Aliens (1986)', 'Eat Drink Man Woman (1994)', 'Lawnmower Man, The (1992)', 'Home Alone (1990)', 'Fish Called Wanda, A (1988)', 'Mars Attacks! (1996)', 'Big Night (1996)', 'Bedknobs and Broomsticks (1971)', 'Heat (1995)', 'Horseman on the Roof, The (Hussard sur le toit, Le) (1995)', 'Right Stuff, The (1983)', 'Madness of King George, The (1994)', 'Star Trek: First Contact (1996)', 'Dolores Claiborne (1994)', 'True Romance (1993)', 'Quiz Show (1994)', 'Indiana Jones and the Last Crusade (1989)', 'Hot Shots! Part Deux (1993)', \"Weekend at Bernie's (1989)\", 'George of the Jungle (1997)', 'Raising Arizona (1987)', 'Chasing Amy (1997)', 'Lion King, The (1994)', 'Room with a View, A (1986)', 'Ghost and the Darkness, The (1996)', '20,000 Leagues Under the Sea (1954)', 'Sling Blade (1996)', '12 Angry Men (1957)', 'Glengarry Glen Ross (1992)', 'Army of Darkness (1993)', 'Copycat (1995)', 'Bed of Roses (1996)', 'Firm, The (1993)', 'Searching for Bobby Fischer (1993)', 'Turbo: A Power Rangers Movie (1997)', 'Jurassic Park (1993)', 'Nightmare on Elm Street, A (1984)', 'Mr. Smith Goes to Washington (1939)', 'Exotica (1994)', 'Disclosure (1994)', \"Antonia's Line (1995)\", 'Star Trek IV: The Voyage Home (1986)', 'Raging Bull (1980)', 'Diabolique (1996)', 'Snow White and the Seven Dwarfs (1937)', 'Crumb (1994)', 'Hudsucker Proxy, The (1994)', 'Dirty Dancing (1987)', 'Shall We Dance? (1996)', 'Supercop (1992)', 'Sting, The (1973)', 'Evil Dead II (1987)', 'Fifth Element, The (1997)', 'Return of the Jedi (1983)', 'D3: The Mighty Ducks (1996)', 'Willy Wonka and the Chocolate Factory (1971)', 'Groundhog Day (1993)', 'Free Willy (1993)', 'Blues Brothers, The (1980)', 'Aristocats, The (1970)', 'Faster Pussycat! Kill! Kill! (1965)', 'Brazil (1985)', 'Cable Guy, The (1996)', 'Beavis and Butt-head Do America (1996)', 'Star Trek: The Wrath of Khan (1982)', 'Natural Born Killers (1994)', 'Braveheart (1995)', 'Wallace & Gromit: The Best of Aardman Animation (1996)', 'Godfather, The (1972)', 'Postino, Il (1994)', 'Cold Comfort Farm (1995)', 'GoldenEye (1995)', 'M*A*S*H (1970)', 'Mask, The (1994)', 'Good Will Hunting (1997)', 'Contact (1997)', '101 Dalmatians (1996)', 'Mighty Aphrodite (1995)', 'Homeward Bound: The Incredible Journey (1993)', 'Lost World: Jurassic Park, The (1997)', 'Love Bug, The (1969)', 'Truth About Cats & Dogs, The (1996)', 'Starship Troopers (1997)', 'Kids in the Hall: Brain Candy (1996)', 'Theodore Rex (1995)', 'Kolya (1996)', \"Smilla's Sense of Snow (1997)\", 'In the Company of Men (1997)', 'Last of the Mohicans, The (1992)', 'Private Benjamin (1980)', 'Restoration (1995)', 'Belle de jour (1967)', 'Sound of Music, The (1965)', 'To Wong Foo, Thanks for Everything! Julie Newmar (1995)', 'Strange Days (1995)', 'Citizen Ruth (1996)', 'GoodFellas (1990)', 'Nikita (La Femme Nikita) (1990)', 'Remains of the Day, The (1993)', 'Sleepless in Seattle (1993)', 'Men in Black (1997)', 'Nadja (1994)', 'Muppet Treasure Island (1996)', 'unknown', 'Four Weddings and a Funeral (1994)', 'Event Horizon (1997)', 'Bad Boys (1995)', 'Full Monty, The (1997)', 'Young Guns (1988)', 'Jerry Maguire (1996)', 'Monty Python and the Holy Grail (1974)', 'Unforgiven (1992)', 'Pillow Book, The (1995)', 'Psycho (1960)', 'Sense and Sensibility (1995)', 'Mystery Science Theater 3000: The Movie (1996)', 'Long Kiss Goodnight, The (1996)', \"What's Eating Gilbert Grape (1993)\", 'Silence of the Lambs, The (1991)', 'Crimson Tide (1995)', 'This Is Spinal Tap (1984)', 'Mirror Has Two Faces, The (1996)', 'Professional, The (1994)', 'Clockwork Orange, A (1971)', 'Air Bud (1997)', 'Ed Wood (1994)', 'Chasing Amy (1997)', 'Doom Generation, The (1995)', 'Raiders of the Lost Ark (1981)', 'Babe (1995)', 'Apollo 13 (1995)', 'Shining, The (1980)', 'Much Ado About Nothing (1993)', 'Phenomenon (1996)', 'Good, The Bad and The Ugly, The (1966)', 'Batman Returns (1992)', 'Unbearable Lightness of Being, The (1988)', 'Twelve Monkeys (1995)', 'Santa Clause, The (1994)', \"My Best Friend's Wedding (1997)\", 'Sleeper (1973)', 'Billy Madison (1995)', 'Dances with Wolves (1990)', 'Pulp Fiction (1994)', 'Taxi Driver (1976)', 'Mad Love (1995)', 'Ace Ventura: Pet Detective (1994)', 'Leaving Las Vegas (1995)', 'On Golden Pond (1981)', 'Apocalypse Now (1979)', 'Dead Poets Society (1989)', 'Fugitive, The (1993)', 'Swingers (1996)', 'Terminator, The (1984)', 'Free Willy 2: The Adventure Home (1995)', 'Gone with the Wind (1939)', 'Manon of the Spring (Manon des sources) (1986)', 'Once Upon a Time... When We Were Colored (1995)', 'Batman Forever (1995)', 'Cyrano de Bergerac (1990)', 'Blade Runner (1982)', 'While You Were Sleeping (1995)', 'Haunted World of Edward D. Wood Jr., The (1995)', 'Get Shorty (1995)', \"Mr. Holland's Opus (1995)\", 'Empire Strikes Back, The (1980)', \"Carlito's Way (1993)\", \"Breakfast at Tiffany's (1961)\", 'Four Rooms (1995)', 'Lone Star (1996)', 'Three Colors: Blue (1993)', 'Net, The (1995)', 'Mimic (1997)', 'Terminator 2: Judgment Day (1991)', 'Henry V (1989)', 'Outbreak (1995)', 'Rock, The (1996)', 'I.Q. (1994)', 'Akira (1988)', 'So I Married an Axe Murderer (1993)', 'Rumble in the Bronx (1995)', 'Bound (1996)', 'Wizard of Oz, The (1939)', 'Unhook the Stars (1996)', 'Operation Dumbo Drop (1995)', 'Back to the Future (1985)', 'Moll Flanders (1996)', 'Grosse Pointe Blank (1997)', 'Richard III (1995)', 'Three Colors: Red (1994)', 'When the Cats Away (Chacun cherche son chat) (1996)', 'Field of Dreams (1989)', 'White Balloon, The (1995)', 'Maya Lin: A Strong Clear Vision (1994)', 'Amadeus (1984)', 'Flipper (1996)', 'Wrong Trousers, The (1993)', 'Kansas City (1996)', 'All Dogs Go to Heaven 2 (1996)', 'Forrest Gump (1994)', 'Clerks (1994)', 'Top Gun (1986)', 'Sgt. Bilko (1996)', 'Sabrina (1995)', 'Princess Bride, The (1987)', 'Welcome to the Dollhouse (1995)', 'Crow, The (1994)', 'Birdcage, The (1996)', 'Reservoir Dogs (1992)', 'Hoop Dreams (1994)', 'Brother Minister: The Assassination of Malcolm X (1994)', 'Spitfire Grill, The (1996)', 'Jean de Florette (1986)', 'Breaking the Waves (1996)', 'Jaws (1975)', 'Full Metal Jacket (1987)', 'Shanghai Triad (Yao a yao yao dao waipo qiao) (1995)', 'When Harry Met Sally... (1989)', 'Frighteners, The (1996)', 'Striptease (1996)', 'Batman & Robin (1997)', 'Bridge on the River Kwai, The (1957)', 'Under Siege (1992)', 'Cinema Paradiso (1988)', 'Godfather: Part II, The (1974)', 'Three Colors: White (1994)', \"Monty Python's Life of Brian (1979)\", 'Legends of the Fall (1994)', 'Steel (1997)', 'Seven (Se7en) (1995)', 'Brothers McMullen, The (1995)', 'Fargo (1996)', 'Alien (1979)', 'Angels and Insects (1995)', \"Devil's Own, The (1997)\", 'Jude (1996)', 'Priest (1994)', 'Platoon (1986)', 'Heavy Metal (1981)', 'Hunt for Red October, The (1990)', 'Stargate (1994)', 'Ref, The (1994)', 'Cape Fear (1991)', 'Die Hard 2 (1990)', '2001: A Space Odyssey (1968)', 'Return of the Pink Panther, The (1974)'])"
      ]
     },
     "execution_count": 17,
     "metadata": {},
     "output_type": "execute_result"
    }
   ],
   "source": [
    "movies.values()"
   ]
  },
  {
   "cell_type": "code",
   "execution_count": null,
   "metadata": {
    "collapsed": true
   },
   "outputs": [],
   "source": []
  }
 ],
 "metadata": {
  "kernelspec": {
   "display_name": "Python 3",
   "language": "python",
   "name": "python3"
  },
  "language_info": {
   "codemirror_mode": {
    "name": "ipython",
    "version": 3
   },
   "file_extension": ".py",
   "mimetype": "text/x-python",
   "name": "python",
   "nbconvert_exporter": "python",
   "pygments_lexer": "ipython3",
   "version": "3.5.1"
  }
 },
 "nbformat": 4,
 "nbformat_minor": 0
}
