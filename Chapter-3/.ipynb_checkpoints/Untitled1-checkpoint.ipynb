{
 "cells": [
  {
   "cell_type": "code",
   "execution_count": null,
   "metadata": {
    "collapsed": true
   },
   "outputs": [],
   "source": []
  },
  {
   "cell_type": "markdown",
   "metadata": {},
   "source": [
    "### 3.3階層的クラスタリング"
   ]
  },
  {
   "cell_type": "markdown",
   "metadata": {},
   "source": [
    "最も似ている二つのグループをまとめることを繰り返すことによって、グロープの階層を作り上げる。"
   ]
  },
  {
   "cell_type": "code",
   "execution_count": 2,
   "metadata": {
    "collapsed": false
   },
   "outputs": [],
   "source": [
    "def readfile(filename):\n",
    "    lines=[line for line in file(filename)]\n",
    "    \n",
    "    colnames=lines[0].strip().split('\\t')[1:]\n",
    "    rownames=[]\n",
    "    data=[]\n",
    "    for line in lines[1:]:\n",
    "        p=line.strip().split('\\t')\n",
    "        rownames.append(p[0])\n",
    "        data.append([float(x) for x in p[1:]])\n",
    "    return rownames, columns, data"
   ]
  },
  {
   "cell_type": "code",
   "execution_count": null,
   "metadata": {
    "collapsed": true
   },
   "outputs": [],
   "source": []
  },
  {
   "cell_type": "code",
   "execution_count": 5,
   "metadata": {
    "collapsed": false
   },
   "outputs": [],
   "source": [
    "from math import sqrt\n",
    "def pearson(v1,v2):\n",
    "    sum1=sum(v1)\n",
    "    sum2=sum(v2)\n",
    "    \n",
    "    sum1Sq=sum([pow(v, 2) for v in v1])\n",
    "    sum2Sq=sum([pow(v, 2) for v in v2])\n",
    "    \n",
    "    pSum=sum([v1[i]*v2[i] for i in range(len(v1))])\n",
    "    \n",
    "    num=pSum-(sum1*sum2/len(v1))\n",
    "    den=sqrt((sum1Sq-pow(sum1, 2)/len(v1))*(sum1Sq-pow(sum2, 2)/len(v1)))\n",
    "    if den ==0 : return 0\n",
    "    \n",
    "    return 1.0-num/den"
   ]
  },
  {
   "cell_type": "code",
   "execution_count": null,
   "metadata": {
    "collapsed": true
   },
   "outputs": [],
   "source": []
  },
  {
   "cell_type": "markdown",
   "metadata": {},
   "source": []
  },
  {
   "cell_type": "code",
   "execution_count": 6,
   "metadata": {
    "collapsed": true
   },
   "outputs": [],
   "source": [
    "class bicluster:\n",
    "    def __init__(self, vec, left=None, right=None, distance=0.0, id=None):\n",
    "        self.left=left\n",
    "        self.right=right\n",
    "        self.vec=vec\n",
    "        self.id=id\n",
    "        self.distance=distance"
   ]
  },
  {
   "cell_type": "code",
   "execution_count": null,
   "metadata": {
    "collapsed": true
   },
   "outputs": [],
   "source": []
  },
  {
   "cell_type": "code",
   "execution_count": 7,
   "metadata": {
    "collapsed": true
   },
   "outputs": [],
   "source": [
    "def hcluster(rows, distance=pearson):\n",
    "    distances={}\n",
    "    currentclustid=-1\n",
    "    \n",
    "    clust=[bicluster(rows[i], id=i) for i in range(len(rows))]\n",
    "    \n",
    "    while len(clust)>1:\n",
    "        lowestpair0(0, 1)\n",
    "        closest=distance(clust[0].vec, clust[1].vec)\n",
    "        \n",
    "        for i in range(len(clust)):\n",
    "            for j in range(i+1, len(clust)):\n",
    "                if(clust[i].id, clust[j].id) not in distances:\n",
    "                    distances[(clust[i].id, clust[j].id)]=distance(clust[i].vec, clust[j].vec)\n",
    "                    \n",
    "                d=distances[(clust[i].id, clust[j].id)]\n",
    "                \n",
    "                if d<closest:\n",
    "                    closest=d\n",
    "                    lowestpair=(i, j)\n",
    "                    \n",
    "        mergevec=[\n",
    "            (clust[lowestpair[0]].vec[i]+clust[lowestpair[1].vec[i]])/2.0\n",
    "            for i in range(len(clust[0].vec))\n",
    "        ]\n",
    "        \n",
    "        newcluster=bicluster(mergevec, left=clust[lowestpair[0]],\n",
    "                            right=clust[lowestpair[1]],\n",
    "                            distance=closest, id=currentclustid)\n",
    "        \n",
    "        currentclustid=-1\n",
    "        del clust[lowestpair[1]]\n",
    "        del clust[lowestpair[0]]\n",
    "        clust.append(newcluster)\n",
    "        \n",
    "    return clust[0]"
   ]
  },
  {
   "cell_type": "code",
   "execution_count": null,
   "metadata": {
    "collapsed": true
   },
   "outputs": [],
   "source": []
  },
  {
   "cell_type": "code",
   "execution_count": 16,
   "metadata": {
    "collapsed": false
   },
   "outputs": [],
   "source": [
    "def printclust(clust, labels=None, n=0):\n",
    "    for i in range(n): print(' ') ,\n",
    "    if clust.id<0:\n",
    "        print('-')\n",
    "    else:\n",
    "        if labels==None: print(clust.id)\n",
    "        else: print(labels[clust.id])\n",
    "            \n",
    "        if clust.left!=None: printclust(clust.left, labels=labels, n=n+1)\n",
    "        if clust.right!=None: printclust(clust.right, labels=labels, n=n+1)"
   ]
  },
  {
   "cell_type": "code",
   "execution_count": null,
   "metadata": {
    "collapsed": true
   },
   "outputs": [],
   "source": []
  },
  {
   "cell_type": "code",
   "execution_count": null,
   "metadata": {
    "collapsed": true
   },
   "outputs": [],
   "source": []
  }
 ],
 "metadata": {
  "kernelspec": {
   "display_name": "Python 3",
   "language": "python",
   "name": "python3"
  },
  "language_info": {
   "codemirror_mode": {
    "name": "ipython",
    "version": 3
   },
   "file_extension": ".py",
   "mimetype": "text/x-python",
   "name": "python",
   "nbconvert_exporter": "python",
   "pygments_lexer": "ipython3",
   "version": "3.5.1"
  }
 },
 "nbformat": 4,
 "nbformat_minor": 0
}
