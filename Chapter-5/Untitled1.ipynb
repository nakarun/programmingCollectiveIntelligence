{
 "cells": [
  {
   "cell_type": "code",
   "execution_count": null,
   "metadata": {
    "collapsed": true
   },
   "outputs": [],
   "source": []
  },
  {
   "cell_type": "code",
   "execution_count": 2,
   "metadata": {
    "collapsed": false
   },
   "outputs": [],
   "source": [
    "def schedulecost(sol):\n",
    "    totalprice=0\n",
    "    latestarrival=0\n",
    "    earliestdep=24*60\n",
    "    \n",
    "    for d in range(len(sol)/2):\n",
    "        origin=people[d][1]\n",
    "        outbound=flights[(origin,destination)][int(sol[d*2])]\n",
    "        returnf=flights[(destination,origin)][int(sol[d*2+1])]\n",
    "        \n",
    "        totalprice+=outbound[2]\n",
    "        totalprice+=returnf[2]\n",
    "        \n",
    "        if latestarrival<getminutes(outbound[1]): latestarrival=getminutes(outbound[1])\n",
    "        if earliestdep>getminutes(returnf[0]): earliestdep=getminutes(returnf[0])\n",
    "            \n",
    "        totalwait=0\n",
    "        for d in range(len(sol)/2):\n",
    "            origin=people[d][1]\n",
    "            outbound=flights[(origin,destination)][int(sol[d*2])]\n",
    "            returnf=flights[(destination,origin)][int(sol[d*2+1])]\n",
    "            totalwait+=latestarrival-getminutes(outbound[1])\n",
    "            totalwait+=getminutes(returnf[0])-earliestdep\n",
    "        \n",
    "        if latestarrival<earliestdep: totalprice+=50\n",
    "            \n",
    "        return totalprice+totalwait"
   ]
  },
  {
   "cell_type": "code",
   "execution_count": null,
   "metadata": {
    "collapsed": true
   },
   "outputs": [],
   "source": []
  },
  {
   "cell_type": "code",
   "execution_count": 3,
   "metadata": {
    "collapsed": true
   },
   "outputs": [],
   "source": [
    "def randomoptimize(domain, costf):\n",
    "    best=999999999\n",
    "    bestr=None\n",
    "    for i in range(1000):\n",
    "        r=[random.randint(domain[i][0],domain[i][1]) for i in range(len(domain))]\n",
    "        \n",
    "        cost=costf(r)\n",
    "        \n",
    "        if cost<best:\n",
    "            best=cost\n",
    "            bestr=r\n",
    "    return r"
   ]
  },
  {
   "cell_type": "code",
   "execution_count": null,
   "metadata": {
    "collapsed": true
   },
   "outputs": [],
   "source": []
  }
 ],
 "metadata": {
  "kernelspec": {
   "display_name": "Python 3",
   "language": "python",
   "name": "python3"
  },
  "language_info": {
   "codemirror_mode": {
    "name": "ipython",
    "version": 3
   },
   "file_extension": ".py",
   "mimetype": "text/x-python",
   "name": "python",
   "nbconvert_exporter": "python",
   "pygments_lexer": "ipython3",
   "version": "3.5.1"
  }
 },
 "nbformat": 4,
 "nbformat_minor": 0
}
