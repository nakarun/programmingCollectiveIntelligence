{
 "cells": [
  {
   "cell_type": "code",
   "execution_count": null,
   "metadata": {
    "collapsed": true
   },
   "outputs": [],
   "source": []
  },
  {
   "cell_type": "markdown",
   "metadata": {},
   "source": [
    "ヒルクライム：解を無造作に試していく方法は、発見済みの優れた解のアドバンテージを活用しないという点で非効率的。ヒルクライムは無造作解から出発し、近傍界の中からより優れたものを探す。"
   ]
  },
  {
   "cell_type": "code",
   "execution_count": 2,
   "metadata": {
    "collapsed": false
   },
   "outputs": [],
   "source": [
    "def hillclimb(domain, costf):\n",
    "    sol=[random.randint(domain[i][0], domain[i][1]) for i in range(len(domain))]\n",
    "    \n",
    "    while 1:\n",
    "        \n",
    "        neighbors=[]\n",
    "        \n",
    "        for j in range(len(domain)):\n",
    "            if sol[j]>domain[j][0]:\n",
    "                neighbors.append(sol[0:j]+[sol[j]-1]+sol[j+1:])\n",
    "            if sol[j]<domain[j][1]:\n",
    "                neighbors.append(sol[0:j]+[sol[j]+1]+sol[j+1:])\n",
    "                \n",
    "        current=costf(sol)\n",
    "        best=current\n",
    "        for j in range(len(neighbors)):\n",
    "            cost=costf(neightbors[j])\n",
    "            if cost<best:\n",
    "                best=cost\n",
    "                sol=neighbors[j]\n",
    "                \n",
    "        if best==current:\n",
    "            break\n",
    "    \n",
    "    return sol"
   ]
  },
  {
   "cell_type": "markdown",
   "metadata": {},
   "source": [
    "模擬アニーリング："
   ]
  },
  {
   "cell_type": "code",
   "execution_count": 3,
   "metadata": {
    "collapsed": true
   },
   "outputs": [],
   "source": [
    "def annealingoptimize(domain, costf, T=10000.0, cool=0.95, step=1):\n",
    "    vec=[float(random.randint(domain[i][0], domain[i][1])) for i in range(len(domain))]\n",
    "    \n",
    "    while T>0.1:\n",
    "        i=random.randint(0, len(domain)-1)\n",
    "        dir=random.randint(-step,step)\n",
    "        \n",
    "        vecb=vec[:]\n",
    "        vecb[i]+=dir\n",
    "        if vecb[i]<domain[i][0]: vecb[i]=domain[i][0]\n",
    "        elif vecb[i]>domain[i][1]: vecb[i]=domain[i][1]\n",
    "            \n",
    "        ea=costf(vec)\n",
    "        eb=costf(vecb)\n",
    "        p=pow(math.e, -abs(eb-ea)/T)\n",
    "        \n",
    "        if(eb<ea or domain.random()<p):\n",
    "            vec=vecb\n",
    "            \n",
    "        T=T*cool\n",
    "        \n",
    "    return vec"
   ]
  },
  {
   "cell_type": "markdown",
   "metadata": {},
   "source": [
    "遺伝アルゴリズム"
   ]
  },
  {
   "cell_type": "code",
   "execution_count": 6,
   "metadata": {
    "collapsed": false
   },
   "outputs": [],
   "source": [
    "def geneticoptimize(domain, costf, popsize=50, step=1, mutprob=0.2, elite=0.2, maxiter=100):\n",
    "    \n",
    "    def mutate(vec):\n",
    "        i=random.randint(0, len(domain)-1)\n",
    "        if random.random()<0.5 and vec[i]>domain[i][0]:\n",
    "            return vec[0:i]+[vec[i]-step]+vec[i+1:]\n",
    "        elif vec[i]<domain[i][1]:\n",
    "            return vec[0:i]+[vec[i]+step]+vec[i+1:]\n",
    "        \n",
    "    def crossover(r1, r2):\n",
    "        i=random.randint(1, len(domain)-2)\n",
    "        return r1[0:i]+r2[i:]\n",
    "    \n",
    "    pop=[]\n",
    "    for i in range(popsize):\n",
    "        vec=[random.randint(domain[i][0], domain[i][1]) for i in range(len(domain))]\n",
    "        pop.append(vec)\n",
    "        \n",
    "    topelite=int(elite*popsize)\n",
    "    \n",
    "    for i in range(maxiter):\n",
    "        scores=[(costf(v), v) for v in pop]\n",
    "        scores.sort()\n",
    "        ranked=[v for (s,v) in scores]\n",
    "        \n",
    "        pop=ranked[0:topelite]\n",
    "        \n",
    "        while len(pop)<popsize:\n",
    "            if random.random()<mutprob:\n",
    "                c=random.randint(0, topelite)\n",
    "                pop.append(mutate(ranked[c]))\n",
    "            else:    \n",
    "                c1=random.randint(0, topelite)\n",
    "                c2=random.randint(0, topelite)\n",
    "                pop.append(crossover(ranked[c1], ranked[c2]))\n",
    "                \n",
    "        print(scores[0][0])\n",
    "            \n",
    "    return scores[0][1]"
   ]
  },
  {
   "cell_type": "code",
   "execution_count": null,
   "metadata": {
    "collapsed": true
   },
   "outputs": [],
   "source": []
  }
 ],
 "metadata": {
  "kernelspec": {
   "display_name": "Python 3",
   "language": "python",
   "name": "python3"
  },
  "language_info": {
   "codemirror_mode": {
    "name": "ipython",
    "version": 3
   },
   "file_extension": ".py",
   "mimetype": "text/x-python",
   "name": "python",
   "nbconvert_exporter": "python",
   "pygments_lexer": "ipython3",
   "version": "3.5.1"
  }
 },
 "nbformat": 4,
 "nbformat_minor": 0
}
